{
 "cells": [
  {
   "cell_type": "markdown",
   "metadata": {
    "collapsed": true,
    "pycharm": {
     "name": "#%% md\n"
    }
   },
   "source": [
    "- Assume the path of trackcluster is path/to/trackcluster\n",
    "- Change the path/to/github to real $PATH of trackcluster location in your own run\n",
    "\n",
    "\n",
    "#### files needed\n",
    "1. The reference file: reference.fa\n",
    "2. the nanopore read file: nanopore_reads.fa\n",
    "3. reference annotation file: anno.gff\n",
    "4. Optional:the faSize output of reads from each groups; the matching score of the full-length indicator splicing leader "
   ]
  },
  {
   "cell_type": "code",
   "execution_count": null,
   "metadata": {
    "collapsed": true,
    "pycharm": {
     "name": "#%%\n"
    }
   },
   "outputs": [],
   "source": [
    "# add the trackcluster to the python env\n",
    "import sys\n",
    "sys.path.insert(0, \"path/to/\") \n",
    "import trackcluster"
   ]
  },
  {
   "cell_type": "code",
   "execution_count": null,
   "metadata": {
    "collapsed": false,
    "pycharm": {
     "name": "#%%\n"
    }
   },
   "outputs": [],
   "source": [
    "%%bash\n",
    "# run the minimap2 with 10 cores\n",
    "minimap2 -ax splice -k14 -uf -t 10 \\\n",
    "    reference.fa \\\n",
    "    nanopore_reads.fa > aln.sam\n",
    "samtools view -bS aln.sam>aln.bam\n",
    "samtools sort aln.bam >aln_s.bam\n",
    "samtools index aln_s.bam"
   ]
  },
  {
   "cell_type": "code",
   "execution_count": null,
   "metadata": {
    "collapsed": true,
    "pycharm": {
     "name": "#%%\n"
    }
   },
   "outputs": [],
   "source": [
    "%%bash\n",
    "# convert the bam file to the track file in bigGenPred format, the bed file can be visualized in IGV or UCSC\n",
    "python path/to/trackcluster/script/bam2bigg.py -b aln_s.bam -o nano.bed"
   ]
  },
  {
   "cell_type": "code",
   "execution_count": null,
   "metadata": {
    "collapsed": true,
    "pycharm": {
     "name": "#%%\n"
    }
   },
   "outputs": [],
   "source": [
    "%%bash\n",
    "#convert the reference gff file to the track file in bigGenPred format, the bed file can be visualized in IGV or UCSC\n",
    "python path/to/trackcluster/script/gff2bigg.py -k Gene -i anno.gff -o anno.bed "
   ]
  },
  {
   "cell_type": "code",
   "execution_count": null,
   "metadata": {
    "collapsed": true,
    "pycharm": {
     "name": "#%%\n"
    }
   },
   "outputs": [],
   "source": [
    "%%bash\n",
    "# run a quick bedtool check to assign gene name to each reads\n",
    "bedtools sort -i nano.bed > nanos.bed\n",
    "bedtools sort -i anno.bed > annos.bed\n",
    "bedtools intersect -wa -wb -r  -f 0.05 -a nanos.bed -b annos.bed > nano_inter_ref.bed"
   ]
  },
  {
   "cell_type": "code",
   "execution_count": null,
   "metadata": {
    "collapsed": false,
    "pycharm": {
     "name": "#%%\n"
    }
   },
   "outputs": [],
   "source": [
    "# get the dic of read:gene\n",
    "read_gene={}\n",
    "f=open(\"nano_inter_ref.bed\")\n",
    "for line in f.readlines():\n",
    "    line_l=line.split(\"\\t\")\n",
    "    name=line_l[3]\n",
    "    gene=line_l[-3]\n",
    "    read_gene[name] = gene\n",
    "f.close()"
   ]
  },
  {
   "cell_type": "code",
   "execution_count": null,
   "metadata": {
    "collapsed": true,
    "pycharm": {
     "name": "#%%\n"
    }
   },
   "outputs": [],
   "source": [
    "# Optional, get the dic of read:group, if any\n",
    "read_n={}\n",
    "\n",
    "f=open(\"group1.fa.sizes\")\n",
    "for line in f.readlines():\n",
    "    line_l=line.split(\"\\t\")\n",
    "    name=line_l[0]\n",
    "    group=\"group1\"\n",
    "    read_n[name] = group\n",
    "f.close()\n",
    "\n",
    "f=open(\"group2.fa.sizes\")\n",
    "for line in f.readlines():\n",
    "    line_l=line.split(\"\\t\")\n",
    "    name=line_l[0]\n",
    "    group=\"group12\"\n",
    "    read_n[name] = group\n",
    "f.close()"
   ]
  },
  {
   "cell_type": "code",
   "execution_count": null,
   "metadata": {
    "collapsed": true,
    "pycharm": {
     "name": "#%%\n"
    }
   },
   "outputs": [],
   "source": [
    "# Optional, get the dic of read:score, if any\n",
    "read_score={}\n",
    "f=open(\"SL_score.txt\")\n",
    "for line in f.readlines():\n",
    "    line_l=line.split(\"\\t\")\n",
    "    name=line_l[0]\n",
    "    score=int(line_l[1])\n",
    "    read_score[name] = score\n",
    "f.close()"
   ]
  },
  {
   "cell_type": "code",
   "execution_count": null,
   "metadata": {
    "collapsed": true,
    "pycharm": {
     "name": "#%%\n"
    }
   },
   "outputs": [],
   "source": [
    "from trackcluster.tracklist import read_bigg, write_bigg, bigglist_to_bedfile"
   ]
  },
  {
   "cell_type": "code",
   "execution_count": null,
   "metadata": {
    "collapsed": false,
    "pycharm": {
     "name": "#%%\n"
    }
   },
   "outputs": [],
   "source": [
    "nano_bigg=read_bigg(\"nanos.bed\")"
   ]
  },
  {
   "cell_type": "code",
   "execution_count": null,
   "metadata": {
    "collapsed": false,
    "pycharm": {
     "name": "#%%\n"
    }
   },
   "outputs": [],
   "source": [
    "# add the infor from read_gene, read_n to the track file\n",
    "nano_bigg_new=[]\n",
    "for bigg in nano_bigg:\n",
    "    try:\n",
    "        gene=read_gene[bigg.name]\n",
    "        group=read_n[bigg.name] # Optional\n",
    "        score=read_score[bigg.name] # Optional\n",
    "\n",
    "        bigg.geneName=gene\n",
    "        bigg.geneName2=group # Optional\n",
    "        bigg.score=score # Optional\n",
    "        \n",
    "        nano_bigg_new.append(bigg)\n",
    "    except KeyError:\n",
    "        pass "
   ]
  },
  {
   "cell_type": "code",
   "execution_count": null,
   "metadata": {
    "collapsed": false,
    "pycharm": {
     "name": "#%%\n"
    }
   },
   "outputs": [],
   "source": [
    "# write the new file with group information\n",
    "write_bigg(nano_bigg_new, \"nanogroup.bed\")"
   ]
  },
  {
   "cell_type": "code",
   "execution_count": null,
   "metadata": {
    "collapsed": true,
    "pycharm": {
     "name": "#%%\n"
    }
   },
   "outputs": [],
   "source": [
    "from collections import OrderedDict\n",
    "def group_bigg_by_gene(bigglist):\n",
    "    gene_bigg=OrderedDict()\n",
    "    \n",
    "    for bigg in bigglist:\n",
    "        try:\n",
    "            gene_bigg[bigg.geneName].append(bigg)\n",
    "        except KeyError:\n",
    "            gene_bigg[bigg.geneName]=[]\n",
    "            gene_bigg[bigg.geneName].append(bigg)\n",
    "    return gene_bigg"
   ]
  },
  {
   "cell_type": "code",
   "execution_count": null,
   "metadata": {
    "collapsed": false,
    "pycharm": {
     "name": "#%%\n"
    }
   },
   "outputs": [],
   "source": [
    "gene_nano=group_bigg_by_gene(nano_bigg_new)"
   ]
  },
  {
   "cell_type": "code",
   "execution_count": null,
   "metadata": {
    "collapsed": true,
    "pycharm": {
     "name": "#%%\n"
    }
   },
   "outputs": [],
   "source": [
    "anno_bigg=read_bigg(\"annos.bed\")"
   ]
  },
  {
   "cell_type": "code",
   "execution_count": null,
   "metadata": {
    "collapsed": false,
    "pycharm": {
     "name": "#%%\n"
    }
   },
   "outputs": [],
   "source": [
    "gene_anno=group_bigg_by_gene(anno_bigg)"
   ]
  },
  {
   "cell_type": "code",
   "execution_count": null,
   "metadata": {
    "collapsed": true,
    "pycharm": {
     "name": "#%%\n"
    }
   },
   "outputs": [],
   "source": [
    "# use the gene_anno and gene_nano to write the small trackgroups for each genes\n",
    "for gene, nano_bigg in gene_nano.iteritems():\n",
    "    anno_bigg=gene_anno[gene]\n",
    "    try:\n",
    "        os.mkdir(gene)\n",
    "    except OSError:\n",
    "        pass\n",
    "    \n",
    "    anno_out=\"./{gene}/{gene}_gff.bed\".format(gene=gene)\n",
    "    nano_out=\"./{gene}/{gene}_nano.bed\".format(gene=gene)\n",
    "    \n",
    "    write_bigg(anno_bigg, anno_out)\n",
    "    write_bigg(nano_bigg, nano_out)"
   ]
  },
  {
   "cell_type": "code",
   "execution_count": null,
   "metadata": {
    "collapsed": true,
    "pycharm": {
     "name": "#%%\n"
    }
   },
   "outputs": [],
   "source": [
    "from trackcluster.batch import *"
   ]
  },
  {
   "cell_type": "code",
   "execution_count": null,
   "metadata": {
    "collapsed": false,
    "pycharm": {
     "name": "#%%\n"
    }
   },
   "outputs": [],
   "source": [
    "subk=gene_nano.keys()\n",
    "len(subk)"
   ]
  },
  {
   "cell_type": "code",
   "execution_count": null,
   "metadata": {
    "collapsed": true,
    "pycharm": {
     "name": "#%%\n"
    }
   },
   "outputs": [],
   "source": [
    "# run the clustering for each gene \n",
    "errors_ll=[]\n",
    "\n",
    "def process_one_subsample_try(key, intronweight=0.5, by=\"ratio_all\", full=False):\n",
    "    print key\n",
    "    gff_file = \"./\" + key + \"/\" + key + \"_gff.bed\"\n",
    "    nano_file = \"./\" + key + \"/\" + key + \"_nano.bed\"\n",
    "    figout = \"./\" + key + \"/\" + key + \"_coverage.pdf\"\n",
    "    biggout = \"./\" + key + \"/\" + key + \"_simple_coverage2.bed\"\n",
    "    Dout = \"./\" + key + \"/\" + key + \"_simple_coverage2.csv\"\n",
    "\n",
    "    if full is False:\n",
    "        if os.stat(nano_file).st_size == 0:  # no bigg nano file\n",
    "            return 0\n",
    "        if os.path.isfile(biggout):  # already processed\n",
    "            return 0\n",
    "\n",
    "    bigg_gff = read_bigg(gff_file)\n",
    "    bigg_nano_raw = read_bigg(nano_file)\n",
    "\n",
    "    try:\n",
    "        bigg_nano = prefilter_smallexon(bigg_nano_raw, bigg_gff, cutoff=50)\n",
    "        n_count = 100\n",
    "        n = 0\n",
    "\n",
    "        if bigg_nano is None:\n",
    "            return 0\n",
    "\n",
    "        try:\n",
    "            while n < n_count and len(bigg_nano) > batchsize:\n",
    "                # print \"n=\", n\n",
    "                bigg_1 = bigg_nano[:batchsize]\n",
    "                bigg_2 = bigg_nano[batchsize:]\n",
    "                _, bigg_list_by1 = flow_cluster(bigg_1, bigg_gff, by, intronweight=intronweight)\n",
    "                bigg_nano = add_subread_bigg(bigg_list_by1 + bigg_2)\n",
    "                n += 1\n",
    "                \n",
    "            D, bigg_nano_new = flow_cluster(bigg_nano, bigg_gff, by, intronweight=intronweight)\n",
    "            bigg_nano_new = add_subread_bigg(bigg_nano_new)\n",
    "\n",
    "            ### save nessary files\n",
    "            for bigg in bigg_nano_new:\n",
    "                bigg.write_subread()\n",
    "\n",
    "            bigg_count_write(bigg_nano_new, out=biggout)\n",
    "        except Exception as e:\n",
    "            errors_ll.append((key,e))\n",
    "    except Exception as e:\n",
    "        errors_ll.append((key,e))\n",
    "\n",
    "    return 1"
   ]
  },
  {
   "cell_type": "code",
   "execution_count": null,
   "metadata": {
    "collapsed": true,
    "pycharm": {
     "name": "#%%\n"
    }
   },
   "outputs": [],
   "source": [
    "from trackcluster.utils import parmap\n",
    "# run the clustring using 40 cores\n",
    "parmap(process_one_subsample_try, subk, 40)"
   ]
  }
 ],
 "metadata": {
  "kernelspec": {
   "display_name": "Python 2",
   "language": "python",
   "name": "python2"
  },
  "language_info": {
   "codemirror_mode": {
    "name": "ipython",
    "version": 2
   },
   "file_extension": ".py",
   "mimetype": "text/x-python",
   "name": "python",
   "nbconvert_exporter": "python",
   "pygments_lexer": "ipython2",
   "version": "2.7.12"
  }
 },
 "nbformat": 4,
 "nbformat_minor": 0
}